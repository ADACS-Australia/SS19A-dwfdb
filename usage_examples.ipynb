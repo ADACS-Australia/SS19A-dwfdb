{
 "cells": [
  {
   "cell_type": "markdown",
   "metadata": {},
   "source": [
    "# Examples on using the client library for DWF\n",
    "\n",
    "Note, this script was written using the **test server**, double check **which port the DB is running on**.\n",
    "\n",
    "After importing the client module, create the client object specifying the DB url and the sender (author) for the requests. \n",
    "\n",
    "The following methods are available for records:\n",
    "\n",
    "- `add_record`: takes a dictionary with the required input\n",
    "- `add_batch`: reads in a file with a json list of several observations to add (not functional at the moment)\n",
    "- `send_record`: creates the entry of the record added with add_record in the DB\n",
    "- `update_record`: update an entry specified via maryID with the record added with add_record\n",
    "- `get_record`: retieves the entry of the record based on RA, DEC, and distance from the DB\n",
    "\n",
    "\n",
    "The following methods are available for comments associated with records (maryID):\n",
    "- `add_post`: takes a dictionary with comments associated with a Mary ID\n",
    "- `send_post`: sends the entry added with add_post to the DB, giving it a unique post ID, hence one maryID can have several post associated with it\n",
    "- `get_post`: retieves entries of comments based on maryID from the DB\n",
    "\n"
   ]
  },
  {
   "cell_type": "markdown",
   "metadata": {},
   "source": [
    "### Import the library and set up the Client"
   ]
  },
  {
   "cell_type": "code",
   "execution_count": null,
   "metadata": {},
   "outputs": [],
   "source": [
    "#! /usr/bin/env python\n",
    "\n",
    "import glob\n",
    "from astropy.io import ascii\n",
    "# import adacsdwf as dwf\n",
    "from dwf_server import client as dwf\n",
    "import requests\n",
    "\n",
    "\n",
    "# setting up server side\n",
    "url = 'http://127.0.0.1:5000'\n",
    "client = dwf.Client(url,\"rebecca\")"
   ]
  },
  {
   "cell_type": "markdown",
   "metadata": {},
   "source": [
    "A quick check to see if the DB is up and running you can request the content from the front page.\n",
    "This should return 'Hello World!' if all is well."
   ]
  },
  {
   "cell_type": "code",
   "execution_count": null,
   "metadata": {},
   "outputs": [],
   "source": [
    "r = requests.get(f\"{url}/\")\n",
    "r.text"
   ]
  },
  {
   "cell_type": "markdown",
   "metadata": {},
   "source": [
    "### Creat a dict with data to add to DB"
   ]
  },
  {
   "cell_type": "code",
   "execution_count": null,
   "metadata": {},
   "outputs": [],
   "source": [
    "# creating test data\n",
    "test1 = {\n",
    "    \"id\":31903,\n",
    "    \"field\": \"8hr\",\n",
    "    \"ccd\": 18,\n",
    "    \"mary_run\": 72,\n",
    "    \"date\": 180607,\n",
    "    \"cand_num\": 1,\n",
    "    \"mag\": 21.35,\n",
    "    \"emag\": 0.073,\n",
    "    \"mjd\": 58276.02048322,\n",
    "    \"ra\": 123.9024,\n",
    "    \"dec\": -78.5336,\n",
    "    \"maryID\": \"8hr_mrt1_72_31903_180607\",\n",
    "    \"sci_path\": \"/fred/oz100/pipes/DWF_PIPE/MARY_STAMP/8hr_180607_mrt1_72/8hr_180607_mrt1_72_stamp_ccd18_cand1_sci.fits\",\n",
    "    \"sub_path\": \"/fred/oz100/pipes/DWF_PIPE/MARY_STAMP/8hr_180607_mrt1_72/8hr_180607_mrt1_72_stamp_ccd18_cand1_sub.fits\",\n",
    "    \"temp_path\": \"/fred/oz100/pipes/DWF_PIPE/MARY_STAMP/8hr_180607_mrt1_72/8hr_180607_mrt1_72_stamp_ccd18_cand1_temp.fits\"\n",
    "}\n",
    "        \n",
    "\n",
    "test2 = {\n",
    "    \"id\":62963,\n",
    "    \"field\": \"8hr\",\n",
    "    \"ccd\": 44,\n",
    "    \"mary_run\": 84,\n",
    "    \"date\": 180608,\n",
    "    \"cand_num\": 1,\n",
    "    \"mag\": 21.3197002,\n",
    "    \"emag\": 0.0591000322,\n",
    "    \"mjd\": 58277.03082293,\n",
    "    \"ra\": 124.63092719,\n",
    "    \"dec\": -79.10021861,\n",
    "    \"maryID\": \"8hr_mrt1_84_62963_180608\",\n",
    "    \"sci_path\": \"/fred/oz100/pipes/DWF_PIPE/MARY_STAMP/8hr_180608_mrt1_84/8hr_180608_mrt1_84_stamp_ccd44_cand1_sci.fits\",\n",
    "    \"sub_path\": \"/fred/oz100/pipes/DWF_PIPE/MARY_STAMP/8hr_180608_mrt1_84/8hr_180608_mrt1_84_stamp_ccd44_cand1_sub.fits\",\n",
    "    \"temp_path\": \"/fred/oz100/pipes/DWF_PIPE/MARY_STAMP/8hr_180608_mrt1_84/8hr_180608_mrt1_84_stamp_ccd44_cand1_temp.fits\"\n",
    "}\n",
    "\n",
    "test3 = {\n",
    "    \"id\":31905,\n",
    "    \"field\": \"8hr\",\n",
    "    \"ccd\": 18,\n",
    "    \"mary_run\": 72,\n",
    "    \"date\": 180608,\n",
    "    \"cand_num\": 3,\n",
    "    \"mag\": 21.1539001,\n",
    "    \"emag\": 0.0629000322,\n",
    "    \"mjd\": 58276.02048322,\n",
    "    \"ra\": 123.89938445,\n",
    "    \"dec\": -78.506815259,\n",
    "    \"maryID\": \"8hr_mrt1_72_31905_180607\",\n",
    "    \"sci_path\": \"/fred/oz100/pipes/DWF_PIPE/MARY_STAMP/8hr_180607_mrt1_72/8hr_180607_mrt1_72_stamp_ccd18_cand3_sci.fits\",\n",
    "    \"sub_path\": \"/fred/oz100/pipes/DWF_PIPE/MARY_STAMP/8hr_180607_mrt1_72/8hr_180607_mrt1_72_stamp_ccd18_cand3_sub.fits\",\n",
    "    \"temp_path\": \"/fred/oz100/pipes/DWF_PIPE/MARY_STAMP/8hr_180607_mrt1_72/8hr_180607_mrt1_72_stamp_ccd18_cand3_temp.fits\"\n",
    "}\n",
    "\n",
    "\n",
    "# The batch read functionality does not currently work \n",
    "# there is an issue with the testing the integrety of the data when read into and astropy table (numpy)\n",
    "# files = glob.glob(\"*.ascii\")\n",
    "batch_test = ascii.read(\"test.ascii\")\n",
    "# turn ascii table to dictionary, example for one line\n",
    "key = batch_test.colnames\n",
    "batch_entry = dict(zip(key, batch_test[key][2]))"
   ]
  },
  {
   "cell_type": "markdown",
   "metadata": {},
   "source": [
    "### How to add entries to the DB"
   ]
  },
  {
   "cell_type": "markdown",
   "metadata": {},
   "source": [
    "To add an entry to the DB, first add the record to the client which will check for data integrity, then send the record to the DB which will add a new line."
   ]
  },
  {
   "cell_type": "code",
   "execution_count": null,
   "metadata": {
    "scrolled": true
   },
   "outputs": [],
   "source": [
    "# using client library function to add mary run\n",
    "client.add_record(test1)\n",
    "client.record"
   ]
  },
  {
   "cell_type": "code",
   "execution_count": null,
   "metadata": {},
   "outputs": [],
   "source": [
    "# send to DB\n",
    "client.send_record()"
   ]
  },
  {
   "cell_type": "markdown",
   "metadata": {},
   "source": [
    "If you try to add an entry that does not fullfill basic data integrity you will get an error on the add_record stage"
   ]
  },
  {
   "cell_type": "code",
   "execution_count": null,
   "metadata": {},
   "outputs": [],
   "source": [
    "test_bad = {\n",
    "    \"id\":62963.,\n",
    "    \"field\": \"8hr\",\n",
    "    \"ccd\": 44,\n",
    "    \"mary_run\": 84,\n",
    "    \"date\": 180608,\n",
    "    \"cand_num\": 1,\n",
    "    \"mag\": 21.3197002,\n",
    "    \"emag\": 0.0591000322,\n",
    "    \"mjd\": 58277.03082293,\n",
    "    \"ra\": 124.,\n",
    "    \"dec\": -79.10021861,\n",
    "    \"maryID\": \"8hr_mrt1_84_62963_180608\",\n",
    "    \"sci_path\": \"/fred/oz100/pipes/DWF_PIPE/MARY_STAMP/8hr_180608_mrt1_84/8hr_180608_mrt1_84_stamp_ccd44_cand1_sci.fits\",\n",
    "    \"sub_path\": \"/fred/oz100/pipes/DWF_PIPE/MARY_STAMP/8hr_180608_mrt1_84/8hr_180608_mrt1_84_stamp_ccd44_cand1_sub.fits\",\n",
    "    \"temp_path\": \"/fred/oz100/pipes/DWF_PIPE/MARY_STAMP/8hr_180608_mrt1_84/8hr_180608_mrt1_84_stamp_ccd44_cand1_temp.fits\"\n",
    "}\n",
    "\n",
    "# using client library function to add mary run\n",
    "client.add_record(test_bad)\n"
   ]
  },
  {
   "cell_type": "markdown",
   "metadata": {},
   "source": [
    "### How to add a comment\n",
    "\n",
    "Note, a comment has to be associated with a MaryID present in the DB, however, this is not tested until the comment is send to the DB! (It is on my to do list.) \n",
    "\n",
    "If no author is specified the identiy used to set up the client will be used."
   ]
  },
  {
   "cell_type": "code",
   "execution_count": null,
   "metadata": {},
   "outputs": [],
   "source": [
    "client.add_post(maryid=\"8hr_mrt1_84_62963_180608\",body=\"yet another entry\",author=\"rebecca\")\n",
    "client.post"
   ]
  },
  {
   "cell_type": "code",
   "execution_count": null,
   "metadata": {},
   "outputs": [],
   "source": [
    "client.send_post()"
   ]
  },
  {
   "cell_type": "markdown",
   "metadata": {},
   "source": [
    "**Note:** When a post entry is created in the DB it will also be associated with a datestamp.\n",
    "\n",
    "This makes it possible to send the same post several times to the DB without an error."
   ]
  },
  {
   "cell_type": "markdown",
   "metadata": {},
   "source": [
    "### Retrieving posts and RA-DEC queries"
   ]
  },
  {
   "cell_type": "code",
   "execution_count": 1,
   "metadata": {},
   "outputs": [],
   "source": [
    "#! /usr/bin/env python\n",
    "\n",
    "import glob\n",
    "# import adacsdwf as dwf\n",
    "from dwf_server import client as dwf\n",
    "import requests\n",
    "\n",
    "# setting up server side\n",
    "url = 'http://127.0.0.1:5000'\n",
    "client = dwf.Client(url,\"rebecca\")"
   ]
  },
  {
   "cell_type": "code",
   "execution_count": 2,
   "metadata": {},
   "outputs": [
    {
     "data": {
      "text/plain": [
       "'Hello World!'"
      ]
     },
     "execution_count": 2,
     "metadata": {},
     "output_type": "execute_result"
    }
   ],
   "source": [
    "r = requests.get(f\"{url}/\")\n",
    "r.text"
   ]
  },
  {
   "cell_type": "markdown",
   "metadata": {},
   "source": [
    "**RA and Dec queries**"
   ]
  },
  {
   "cell_type": "code",
   "execution_count": 5,
   "metadata": {},
   "outputs": [
    {
     "name": "stdout",
     "output_type": "stream",
     "text": [
      "Sending query {'ra': 124, 'dec': -79, 'd': 1}\n"
     ]
    }
   ],
   "source": [
    "r = client.get_record(ra=124.5, dec=-79, dist=0.2)"
   ]
  },
  {
   "cell_type": "code",
   "execution_count": 7,
   "metadata": {},
   "outputs": [
    {
     "data": {
      "text/plain": [
       "<Response [500]>"
      ]
     },
     "execution_count": 7,
     "metadata": {},
     "output_type": "execute_result"
    }
   ],
   "source": [
    "r.json"
   ]
  },
  {
   "cell_type": "markdown",
   "metadata": {},
   "source": [
    "**retieve comments**\n"
   ]
  },
  {
   "cell_type": "code",
   "execution_count": 3,
   "metadata": {},
   "outputs": [
    {
     "name": "stdout",
     "output_type": "stream",
     "text": [
      "Sending post query {'maryID': '8hr_mrt1_84_62963_180608'}\n"
     ]
    }
   ],
   "source": [
    "r = client.get_post(maryid=\"8hr_mrt1_84_62963_180608\")"
   ]
  },
  {
   "cell_type": "code",
   "execution_count": 5,
   "metadata": {},
   "outputs": [
    {
     "data": {
      "text/plain": [
       "[{'author': 'rebecca',\n",
       "  'body': 'test the client post',\n",
       "  'created': 'Fri, 29 Nov 2019 03:46:47 GMT',\n",
       "  'id': 1,\n",
       "  'maryID': '8hr_mrt1_84_62963_180608'},\n",
       " {'author': 'rebecca',\n",
       "  'body': 'test the client post adding a new entry',\n",
       "  'created': 'Fri, 29 Nov 2019 03:51:16 GMT',\n",
       "  'id': 2,\n",
       "  'maryID': '8hr_mrt1_84_62963_180608'},\n",
       " {'author': 'rebecca',\n",
       "  'body': 'yet another entry',\n",
       "  'created': 'Fri, 29 Nov 2019 03:51:31 GMT',\n",
       "  'id': 3,\n",
       "  'maryID': '8hr_mrt1_84_62963_180608'}]"
      ]
     },
     "execution_count": 5,
     "metadata": {},
     "output_type": "execute_result"
    }
   ],
   "source": [
    "r.json()"
   ]
  },
  {
   "cell_type": "code",
   "execution_count": null,
   "metadata": {},
   "outputs": [],
   "source": []
  },
  {
   "cell_type": "markdown",
   "metadata": {},
   "source": [
    "### How to update an entry"
   ]
  },
  {
   "cell_type": "code",
   "execution_count": null,
   "metadata": {},
   "outputs": [],
   "source": [
    "#! /usr/bin/env python\n",
    "\n",
    "import glob\n",
    "# import adacsdwf as dwf\n",
    "from dwf_server import client as dwf\n",
    "import requests\n",
    "\n",
    "# setting up server side\n",
    "url = 'http://127.0.0.1:5000'\n",
    "client = dwf.Client(url,\"rebecca\")"
   ]
  },
  {
   "cell_type": "code",
   "execution_count": null,
   "metadata": {},
   "outputs": [],
   "source": [
    "test_update = {\n",
    "    \"id\":62963,\n",
    "    \"field\": \"8hr\",\n",
    "    \"ccd\": 47,\n",
    "    \"mary_run\": 84,\n",
    "    \"date\": 180608,\n",
    "    \"cand_num\": 1,\n",
    "    \"mag\": 21.3197002,\n",
    "    \"emag\": 0.0591000322,\n",
    "    \"mjd\": 58277.03082293,\n",
    "    \"ra\": 124.63092719,\n",
    "    \"dec\": -79.10021861,\n",
    "    \"maryID\": \"8hr_mrt1_84_62963_180608\",\n",
    "    \"sci_path\": \"/fred/oz100/pipes/DWF_PIPE/MARY_STAMP/8hr_180608_mrt1_84/8hr_180608_mrt1_84_stamp_ccd44_cand1_sci.fits\",\n",
    "    \"sub_path\": \"/fred/oz100/pipes/DWF_PIPE/MARY_STAMP/8hr_180608_mrt1_84/8hr_180608_mrt1_84_stamp_ccd44_cand1_sub.fits\",\n",
    "    \"temp_path\": \"/fred/oz100/pipes/DWF_PIPE/MARY_STAMP/8hr_180608_mrt1_84/8hr_180608_mrt1_84_stamp_ccd44_cand1_temp.fits\"\n",
    "}"
   ]
  },
  {
   "cell_type": "code",
   "execution_count": null,
   "metadata": {
    "scrolled": true
   },
   "outputs": [],
   "source": [
    "# using client library function to add mary run\n",
    "client.add_record(test_update)"
   ]
  },
  {
   "cell_type": "code",
   "execution_count": null,
   "metadata": {},
   "outputs": [],
   "source": [
    "r = client.update_record()"
   ]
  },
  {
   "cell_type": "code",
   "execution_count": null,
   "metadata": {},
   "outputs": [],
   "source": [
    "r"
   ]
  },
  {
   "cell_type": "markdown",
   "metadata": {},
   "source": [
    "It is possible to update a comment, however this can only be done via the requests libray and does currently not allow for author changes. See next section for an example"
   ]
  },
  {
   "cell_type": "markdown",
   "metadata": {},
   "source": [
    "## How to query / post directly using the requests library\n",
    "\n",
    "Note, if you are planning to use the request library I recommend using this for querying only.\n",
    "\n",
    "If you want to use it for adding a DB entry, be aware that the client API offers several checks to make sure the data to be posted is valid.\n",
    "\n",
    "Hence, I only show examples for sending info to the DB for posting comments. For querying I show both access to data and comments."
   ]
  },
  {
   "cell_type": "markdown",
   "metadata": {},
   "source": [
    "**Querying RA and Dec data**"
   ]
  },
  {
   "cell_type": "code",
   "execution_count": 6,
   "metadata": {},
   "outputs": [],
   "source": [
    "# Returning all entries in the DB\n",
    "package = \"web/run\"\n",
    "method = \"all\""
   ]
  },
  {
   "cell_type": "code",
   "execution_count": 7,
   "metadata": {},
   "outputs": [],
   "source": [
    "r = requests.get(f\"{url}/{package}/{method}\")"
   ]
  },
  {
   "cell_type": "code",
   "execution_count": 8,
   "metadata": {
    "scrolled": true
   },
   "outputs": [
    {
     "data": {
      "text/plain": [
       "[{'cand_num': 1,\n",
       "  'ccd': 18,\n",
       "  'date': 180607,\n",
       "  'dec': -78.5336,\n",
       "  'emag': 0.073,\n",
       "  'field': '8hr',\n",
       "  'id': 31903,\n",
       "  'mag': 21.35,\n",
       "  'maryID': '8hr_mrt1_72_31903_180607',\n",
       "  'mary_run': 72,\n",
       "  'mjd': 58276.02048322,\n",
       "  'ra': 123.9024,\n",
       "  'sci_path': '/fred/oz100/pipes/DWF_PIPE/MARY_STAMP/8hr_180607_mrt1_72/8hr_180607_mrt1_72_stamp_ccd18_cand1_sci.fits',\n",
       "  'sub_path': '/fred/oz100/pipes/DWF_PIPE/MARY_STAMP/8hr_180607_mrt1_72/8hr_180607_mrt1_72_stamp_ccd18_cand1_sub.fits',\n",
       "  'temp_path': '/fred/oz100/pipes/DWF_PIPE/MARY_STAMP/8hr_180607_mrt1_72/8hr_180607_mrt1_72_stamp_ccd18_cand1_temp.fits'},\n",
       " {'cand_num': 1,\n",
       "  'ccd': 47,\n",
       "  'date': 180608,\n",
       "  'dec': -79.10021861,\n",
       "  'emag': 0.0591000322,\n",
       "  'field': '8hr',\n",
       "  'id': 62963,\n",
       "  'mag': 21.3197002,\n",
       "  'maryID': '8hr_mrt1_84_62963_180608',\n",
       "  'mary_run': 84,\n",
       "  'mjd': 58277.03082293,\n",
       "  'ra': 124.63092719,\n",
       "  'sci_path': '/fred/oz100/pipes/DWF_PIPE/MARY_STAMP/8hr_180608_mrt1_84/8hr_180608_mrt1_84_stamp_ccd44_cand1_sci.fits',\n",
       "  'sub_path': '/fred/oz100/pipes/DWF_PIPE/MARY_STAMP/8hr_180608_mrt1_84/8hr_180608_mrt1_84_stamp_ccd44_cand1_sub.fits',\n",
       "  'temp_path': '/fred/oz100/pipes/DWF_PIPE/MARY_STAMP/8hr_180608_mrt1_84/8hr_180608_mrt1_84_stamp_ccd44_cand1_temp.fits'},\n",
       " {'cand_num': 3,\n",
       "  'ccd': 18,\n",
       "  'date': 180608,\n",
       "  'dec': -78.506815259,\n",
       "  'emag': 0.0629000322,\n",
       "  'field': '8hr',\n",
       "  'id': 31905,\n",
       "  'mag': 21.1539001,\n",
       "  'maryID': '8hr_mrt1_72_31905_180607',\n",
       "  'mary_run': 72,\n",
       "  'mjd': 58276.02048322,\n",
       "  'ra': 123.89938445,\n",
       "  'sci_path': '/fred/oz100/pipes/DWF_PIPE/MARY_STAMP/8hr_180607_mrt1_72/8hr_180607_mrt1_72_stamp_ccd18_cand3_sci.fits',\n",
       "  'sub_path': '/fred/oz100/pipes/DWF_PIPE/MARY_STAMP/8hr_180607_mrt1_72/8hr_180607_mrt1_72_stamp_ccd18_cand3_sub.fits',\n",
       "  'temp_path': '/fred/oz100/pipes/DWF_PIPE/MARY_STAMP/8hr_180607_mrt1_72/8hr_180607_mrt1_72_stamp_ccd18_cand3_temp.fits'}]"
      ]
     },
     "execution_count": 8,
     "metadata": {},
     "output_type": "execute_result"
    }
   ],
   "source": [
    "r.json()"
   ]
  },
  {
   "cell_type": "code",
   "execution_count": 9,
   "metadata": {},
   "outputs": [],
   "source": [
    "# Returning entries by RA, DEC and dist\n",
    "package = \"web/run\"\n",
    "run_payload = {\"ra\": 124.5, \"dec\": -79, \"d\": 0.2}"
   ]
  },
  {
   "cell_type": "code",
   "execution_count": 10,
   "metadata": {},
   "outputs": [],
   "source": [
    "r = requests.get(f\"{url}/{package}\", json = run_payload)"
   ]
  },
  {
   "cell_type": "code",
   "execution_count": 11,
   "metadata": {},
   "outputs": [
    {
     "data": {
      "text/plain": [
       "<Response [500]>"
      ]
     },
     "execution_count": 11,
     "metadata": {},
     "output_type": "execute_result"
    }
   ],
   "source": [
    "r.json()"
   ]
  },
  {
   "cell_type": "markdown",
   "metadata": {},
   "source": [
    "**posting, updating and retrieving comments**"
   ]
  },
  {
   "cell_type": "code",
   "execution_count": null,
   "metadata": {
    "collapsed": true
   },
   "outputs": [],
   "source": [
    "# POST request for comments\n",
    "package = \"web/post\"\n",
    "method = \"create\"\n"
   ]
  },
  {
   "cell_type": "code",
   "execution_count": null,
   "metadata": {},
   "outputs": [],
   "source": [
    "post_payload = {\"maryID\":\"8hr_mrt1_84_62963_180608\", \"body\":\"some comment about the mary object\", \"author\":\"rebecca\"}"
   ]
  },
  {
   "cell_type": "code",
   "execution_count": null,
   "metadata": {},
   "outputs": [],
   "source": [
    "r = requests.post(f\"{url}/{package}/{method}\", json=post_payload)\n"
   ]
  },
  {
   "cell_type": "code",
   "execution_count": 12,
   "metadata": {},
   "outputs": [],
   "source": [
    "# retieving comment posts using GET request\n",
    "package = \"web/post\"\n",
    "post_payload = {\"maryID\":\"8hr_mrt1_84_62963_180608\"}"
   ]
  },
  {
   "cell_type": "code",
   "execution_count": 13,
   "metadata": {},
   "outputs": [],
   "source": [
    "r = requests.get(f\"{url}/{package}\", json=post_payload)"
   ]
  },
  {
   "cell_type": "code",
   "execution_count": 14,
   "metadata": {},
   "outputs": [
    {
     "data": {
      "text/plain": [
       "[{'author': 'rebecca',\n",
       "  'body': 'test the client post',\n",
       "  'created': 'Fri, 29 Nov 2019 03:46:47 GMT',\n",
       "  'id': 1,\n",
       "  'maryID': '8hr_mrt1_84_62963_180608'},\n",
       " {'author': 'rebecca',\n",
       "  'body': 'test the client post adding a new entry',\n",
       "  'created': 'Fri, 29 Nov 2019 03:51:16 GMT',\n",
       "  'id': 2,\n",
       "  'maryID': '8hr_mrt1_84_62963_180608'},\n",
       " {'author': 'rebecca',\n",
       "  'body': 'yet another entry',\n",
       "  'created': 'Fri, 29 Nov 2019 03:51:31 GMT',\n",
       "  'id': 3,\n",
       "  'maryID': '8hr_mrt1_84_62963_180608'}]"
      ]
     },
     "execution_count": 14,
     "metadata": {},
     "output_type": "execute_result"
    }
   ],
   "source": [
    "r.json()"
   ]
  },
  {
   "cell_type": "code",
   "execution_count": null,
   "metadata": {},
   "outputs": [],
   "source": [
    "#  UPDATE request for comments\n",
    "package = \"web/post\"\n",
    "method = \"update\"\n",
    "post_id = 1\n",
    "post_payload = {\"maryxID\":\"8hr_mrt1_84_62963_180608\", \"body\":\"updated test\", \"author\":\"rebecca\"}"
   ]
  },
  {
   "cell_type": "code",
   "execution_count": null,
   "metadata": {},
   "outputs": [],
   "source": [
    "r = requests.put(f\"{url}/{package}/{post_id}/{method}\", json=post_payload)"
   ]
  },
  {
   "cell_type": "code",
   "execution_count": null,
   "metadata": {},
   "outputs": [],
   "source": [
    "r.json()"
   ]
  }
 ],
 "metadata": {
  "kernelspec": {
   "display_name": "Python 3",
   "language": "python",
   "name": "python3"
  },
  "language_info": {
   "codemirror_mode": {
    "name": "ipython",
    "version": 3
   },
   "file_extension": ".py",
   "mimetype": "text/x-python",
   "name": "python",
   "nbconvert_exporter": "python",
   "pygments_lexer": "ipython3",
   "version": "3.6.5"
  }
 },
 "nbformat": 4,
 "nbformat_minor": 2
}
